{
 "cells": [
  {
   "cell_type": "markdown",
   "metadata": {},
   "source": [
    "Script Name: Program Data Update Script\n",
    "Purpose: This script is used to automatically refresh the map with new program sites added to the Master Site Spreadsheet. Additionally, the script will also implement any edits done to old program sites. Any editing of the Master Site Spreadsheet or this code may cause it to fail.\n",
    "\n",
    "Features:\n",
    "- Delete the current program site table\n",
    "- Import program sites from the Master Site Spreadsheet\n",
    "- Plot the new program sites on the map\n",
    "\n",
    "Instructions:\n",
    "- To run this script, click on 'Kernel', then click on 'Restart & Run All. It may take a while for the script to run completely.\n",
    "- If an API request error appears, wait for your limit to reset.\n",
    "\n",
    "Author: Jayden Chan (jaydenc@usc.edu, jaydenchan26@gmail.com)\n",
    "\n",
    "Date: 07-24-27"
   ]
  },
  {
   "cell_type": "code",
   "execution_count": null,
   "metadata": {},
   "outputs": [],
   "source": [
    "# Locally installs a library necessary to access the Google Sheets API\n",
    "\n",
    "!pip install gspread oauth2client"
   ]
  },
  {
   "cell_type": "code",
   "execution_count": null,
   "metadata": {},
   "outputs": [],
   "source": [
    "# Imports required modules\n",
    "\n",
    "from arcgis.gis import GIS\n",
    "from arcgis.features import FeatureLayer\n",
    "import gspread\n",
    "from oauth2client.service_account import ServiceAccountCredentials\n",
    "import json"
   ]
  },
  {
   "cell_type": "code",
   "execution_count": null,
   "metadata": {},
   "outputs": [],
   "source": [
    "# Google Sheets API\n",
    "\n",
    "# Service key - !! Keep this info private !!\n",
    "SERVICE_ACCOUNT_JSON = \"\"\"\n",
    "{\n",
    "  SERVICE_KEY_HERE\n",
    "}\n",
    "\n",
    "\"\"\"\n",
    "service_account_info = json.loads(SERVICE_ACCOUNT_JSON)\n",
    "\n",
    "SCOPES = ['https://www.googleapis.com/auth/spreadsheets', 'https://www.googleapis.com/auth/drive']\n",
    "credentials = ServiceAccountCredentials.from_json_keyfile_dict(service_account_info, SCOPES)\n",
    "user = gspread.authorize(credentials)"
   ]
  },
  {
   "cell_type": "code",
   "execution_count": null,
   "metadata": {},
   "outputs": [],
   "source": [
    "# Access Spreadsheet\n",
    "\n",
    "spreadsheetID = 'SPREADSHEET_ID_HERE' # ID of the Master Site Spreadsheet\n",
    "                                                               # Can be found in the URL\n",
    "spreadsheet = user.open_by_key(spreadsheetID)\n",
    "worksheet = spreadsheet.sheet1                                 # Assumes Master Sheet is the first sheet\n",
    "\n",
    "data = worksheet.get_all_records()"
   ]
  },
  {
   "cell_type": "code",
   "execution_count": null,
   "metadata": {},
   "outputs": [],
   "source": [
    "# ArcGIS Online\n",
    "\n",
    "gis = GIS(\"home\") # Use current ArcGIS Online session\n",
    "\n",
    "feature_layer_item = gis.content.get(\"CONTENT_ID_HERE\") # ID of the program site feature layer\n",
    "                                                                         # Can be found in the URL\n",
    "feature_layer = feature_layer_item.layers[0]"
   ]
  },
  {
   "cell_type": "code",
   "execution_count": null,
   "metadata": {},
   "outputs": [],
   "source": [
    "# Feature Mapping\n",
    "\n",
    "# Format: \"<Spreadsheet Name>\": \"<ArcGIS Name>\"\n",
    "# ArcGIS Name can be found in Fields inside the curly brackets {}\n",
    "field_mapping = {\n",
    "    \"County\": \"County\",\n",
    "    \"Business Name\": \"Business_Name\",\n",
    "    \"Phone\": \"Phone\",\n",
    "    \"Address\": \"Address\",\n",
    "    \"City\": \"City\",\n",
    "    \"State\": \"State\",\n",
    "    \"Latitude\": \"Latitude\",\n",
    "    \"Longitude\": \"Longitude\",\n",
    "    \"Zip\": \"Zip\",\n",
    "    \"Full Address\": \"Full_Address\",\n",
    "    \"License Type\": \"License_Type\",\n",
    "    \"Licensed Capacity\": \"Licensed_Capacity\",\n",
    "    \"21st CCLC\": \"F21st_CCLC\",\n",
    "    \"Childcare Subsidy/CCDBG\": \"Childcare_Subsidy_CCDBG\",\n",
    "    \"Local Municipal Funding\": \"Local_Municipal_Funding\",\n",
    "    \"Private Foundations\": \"Private_Foundations\",\n",
    "    \"Tuition/Fees\": \"Tuition_Fees\",\n",
    "    \"WIOA\": \"WIOA\",\n",
    "    \"CACFP\": \"CACFP\",\n",
    "    \"Other\": \"Other\"\n",
    "}"
   ]
  },
  {
   "cell_type": "code",
   "execution_count": null,
   "metadata": {},
   "outputs": [],
   "source": [
    "# Updating Map\n",
    "\n",
    "features = []\n",
    "for record in data:\n",
    "    try:\n",
    "        latitude = float(record[\"Latitude\"])\n",
    "        longitude = float(record[\"Longitude\"])\n",
    "    except ValueError:\n",
    "        continue\n",
    "\n",
    "    geometry = {\n",
    "        \"x\": longitude,\n",
    "        \"y\": latitude,\n",
    "        \"spatialReference\": {\"wkid\": 4326}  # WGS 84\n",
    "    }\n",
    "\n",
    "    attributes = {field_mapping[key]: value for key, value in record.items() if key in field_mapping}\n",
    "    \n",
    "    feature = {\n",
    "        \"attributes\": attributes,\n",
    "        \"geometry\": geometry\n",
    "    }\n",
    "    features.append(feature)\n",
    "    \n",
    "feature_layer.delete_features(where=\"1=1\") # Clears old data\n",
    "feature_layer.edit_features(adds=features) # Adds new data\n",
    "\n",
    "print(\"Script ran successfully.\")"
   ]
  }
 ],
 "metadata": {
  "language_info": {
   "name": "python"
  }
 },
 "nbformat": 4,
 "nbformat_minor": 2
}
